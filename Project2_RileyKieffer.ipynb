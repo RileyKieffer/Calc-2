{
  "nbformat": 4,
  "nbformat_minor": 0,
  "metadata": {
    "colab": {
      "provenance": [],
      "authorship_tag": "ABX9TyPAYdjG6Ra+zafAt2vd/vUp",
      "include_colab_link": true
    },
    "kernelspec": {
      "name": "python3",
      "display_name": "Python 3"
    },
    "language_info": {
      "name": "python"
    }
  },
  "cells": [
    {
      "cell_type": "markdown",
      "metadata": {
        "id": "view-in-github",
        "colab_type": "text"
      },
      "source": [
        "<a href=\"https://colab.research.google.com/github/RileyKieffer/Calc-2/blob/main/Project2_RileyKieffer.ipynb\" target=\"_parent\"><img src=\"https://colab.research.google.com/assets/colab-badge.svg\" alt=\"Open In Colab\"/></a>"
      ]
    },
    {
      "cell_type": "markdown",
      "source": [
        "1. (a) Find the Partial Fraction Decomposition of function"
      ],
      "metadata": {
        "id": "P3WIpPNnk16T"
      }
    },
    {
      "cell_type": "code",
      "execution_count": 13,
      "metadata": {
        "id": "wM2Zl83sjmNJ"
      },
      "outputs": [],
      "source": [
        "from sympy import *\n",
        "import math\n",
        "x = symbols('x')"
      ]
    },
    {
      "cell_type": "code",
      "source": [
        "h = ((4*x**3-27*x**2+5*x-32)/(30*x**5-13*x**4+50*x**3-286*x**2-299*x-70))\n",
        "h"
      ],
      "metadata": {
        "colab": {
          "base_uri": "https://localhost:8080/",
          "height": 55
        },
        "id": "RsoMmVq4lfr_",
        "outputId": "fa6718de-8e2c-49a6-c024-6d4dfb2895e4"
      },
      "execution_count": 20,
      "outputs": [
        {
          "output_type": "execute_result",
          "data": {
            "text/plain": [
              "(4*x**3 - 27*x**2 + 5*x - 32)/(30*x**5 - 13*x**4 + 50*x**3 - 286*x**2 - 299*x - 70)"
            ],
            "text/latex": "$\\displaystyle \\frac{4 x^{3} - 27 x^{2} + 5 x - 32}{30 x^{5} - 13 x^{4} + 50 x^{3} - 286 x^{2} - 299 x - 70}$"
          },
          "metadata": {},
          "execution_count": 20
        }
      ]
    },
    {
      "cell_type": "code",
      "source": [
        "f=apart(h)\n",
        "f"
      ],
      "metadata": {
        "colab": {
          "base_uri": "https://localhost:8080/",
          "height": 55
        },
        "id": "0u9gH6C2nSH8",
        "outputId": "6edb194f-74d0-412d-984d-1c46009efb40"
      },
      "execution_count": 24,
      "outputs": [
        {
          "output_type": "execute_result",
          "data": {
            "text/plain": [
              "(22098*x + 48935)/(260015*(x**2 + x + 5)) + 24110/(4879*(5*x + 2)) - 9438/(80155*(3*x - 7)) - 668/(323*(2*x + 1))"
            ],
            "text/latex": "$\\displaystyle \\frac{22098 x + 48935}{260015 \\left(x^{2} + x + 5\\right)} + \\frac{24110}{4879 \\left(5 x + 2\\right)} - \\frac{9438}{80155 \\left(3 x - 7\\right)} - \\frac{668}{323 \\left(2 x + 1\\right)}$"
          },
          "metadata": {},
          "execution_count": 24
        }
      ]
    },
    {
      "cell_type": "markdown",
      "source": [
        "1. (b) Integrate the decompostion you found"
      ],
      "metadata": {
        "id": "JdOKk66mo0PS"
      }
    },
    {
      "cell_type": "code",
      "source": [
        "integrate(f,x)"
      ],
      "metadata": {
        "colab": {
          "base_uri": "https://localhost:8080/",
          "height": 66
        },
        "id": "eRV-2u7Go_Hp",
        "outputId": "b9ac364c-6e86-4b46-e0b7-011400b859cb"
      },
      "execution_count": 27,
      "outputs": [
        {
          "output_type": "execute_result",
          "data": {
            "text/plain": [
              "-3146*log(x - 7/3)/80155 + 4822*log(x + 2/5)/4879 - 334*log(x + 1/2)/323 + 11049*log(x**2 + x + 5)/260015 + 3988*sqrt(19)*atan(2*sqrt(19)*x/19 + sqrt(19)/19)/260015"
            ],
            "text/latex": "$\\displaystyle - \\frac{3146 \\log{\\left(x - \\frac{7}{3} \\right)}}{80155} + \\frac{4822 \\log{\\left(x + \\frac{2}{5} \\right)}}{4879} - \\frac{334 \\log{\\left(x + \\frac{1}{2} \\right)}}{323} + \\frac{11049 \\log{\\left(x^{2} + x + 5 \\right)}}{260015} + \\frac{3988 \\sqrt{19} \\operatorname{atan}{\\left(\\frac{2 \\sqrt{19} x}{19} + \\frac{\\sqrt{19}}{19} \\right)}}{260015}$"
          },
          "metadata": {},
          "execution_count": 27
        }
      ]
    },
    {
      "cell_type": "markdown",
      "source": [
        "1. (c) Integrate using original function"
      ],
      "metadata": {
        "id": "Xr1i_P_spXmt"
      }
    },
    {
      "cell_type": "code",
      "source": [
        "integrate(h,x)"
      ],
      "metadata": {
        "colab": {
          "base_uri": "https://localhost:8080/",
          "height": 66
        },
        "id": "cju5WWHnpd9s",
        "outputId": "2393863d-d342-410d-c559-cd1bfafb9602"
      },
      "execution_count": 28,
      "outputs": [
        {
          "output_type": "execute_result",
          "data": {
            "text/plain": [
              "-3146*log(x - 7/3)/80155 + 4822*log(x + 2/5)/4879 - 334*log(x + 1/2)/323 + 11049*log(x**2 + x + 5)/260015 + 3988*sqrt(19)*atan(2*sqrt(19)*x/19 + sqrt(19)/19)/260015"
            ],
            "text/latex": "$\\displaystyle - \\frac{3146 \\log{\\left(x - \\frac{7}{3} \\right)}}{80155} + \\frac{4822 \\log{\\left(x + \\frac{2}{5} \\right)}}{4879} - \\frac{334 \\log{\\left(x + \\frac{1}{2} \\right)}}{323} + \\frac{11049 \\log{\\left(x^{2} + x + 5 \\right)}}{260015} + \\frac{3988 \\sqrt{19} \\operatorname{atan}{\\left(\\frac{2 \\sqrt{19} x}{19} + \\frac{\\sqrt{19}}{19} \\right)}}{260015}$"
          },
          "metadata": {},
          "execution_count": 28
        }
      ]
    },
    {
      "cell_type": "markdown",
      "source": [
        "1. (d) Explain any discrepancies between he two.\n",
        "\n",
        "There are no dicrepancies between the two as they give the same answer."
      ],
      "metadata": {
        "id": "BEVQjZrat-7p"
      }
    },
    {
      "cell_type": "markdown",
      "source": [
        "2. (a) compute g(x) dx from 1 to t for t= 2, 5, 10, 100, 1000, 10000"
      ],
      "metadata": {
        "id": "dpDoZcNaugEE"
      }
    },
    {
      "cell_type": "code",
      "source": [
        "g = cos(x)**2/x**2\n",
        "g\n",
        "t_values = [2, 5, 10, 100, 1000, 10000]\n",
        "for t in t_values:\n",
        "  I=integrate(g,(x,1,t))\n",
        "  print(I)"
      ],
      "metadata": {
        "colab": {
          "base_uri": "https://localhost:8080/"
        },
        "id": "y9eyBRywvqkO",
        "outputId": "1d06f6d4-a038-44bd-88c8-34354a5120e0"
      },
      "execution_count": 38,
      "outputs": [
        {
          "output_type": "stream",
          "name": "stdout",
          "text": [
            "-Si(4) + cos(2)/2 - cos(4)/4 + 1/4 + Si(2)\n",
            "-Si(10) + cos(2)/2 - cos(10)/10 + 2/5 + Si(2)\n",
            "-Si(20) + cos(2)/2 - cos(20)/20 + 9/20 + Si(2)\n",
            "-Si(200) + cos(2)/2 - cos(200)/200 + 99/200 + Si(2)\n",
            "-Si(2000) + cos(2)/2 - cos(2000)/2000 + 999/2000 + Si(2)\n",
            "-Si(20000) + cos(2)/2 - cos(20000)/20000 + 9999/20000 + Si(2)\n"
          ]
        }
      ]
    },
    {
      "cell_type": "markdown",
      "source": [
        "1. (b) Explain what would happen if t approached infinity\n",
        "\n",
        "The integral would get closer to 0 as the bottom gets bigger than top of the fraction"
      ],
      "metadata": {
        "id": "BVqkYR2y0tM3"
      }
    },
    {
      "cell_type": "markdown",
      "source": [
        "1. (c) graph f(x) and g(x) on same axis to show g(x) dx from 1 to infinity is convergent.\n",
        "\n",
        "The graph shows that as x approaches inifity it is going to zero as the values keep getting smaller and smaller."
      ],
      "metadata": {
        "id": "uTh1jJB411rL"
      }
    },
    {
      "cell_type": "code",
      "source": [
        "r= 1/x**2\n",
        "plot(r,g,(x,0,5))"
      ],
      "metadata": {
        "colab": {
          "base_uri": "https://localhost:8080/",
          "height": 571
        },
        "id": "4-e1Jevg1aiP",
        "outputId": "ab59d94c-a04e-466d-ec2d-cc3b6a494126"
      },
      "execution_count": 41,
      "outputs": [
        {
          "output_type": "stream",
          "name": "stderr",
          "text": [
            "<lambdifygenerated-11>:2: RuntimeWarning: divide by zero encountered in scalar divide\n",
            "  return cos(x)**2/x**2\n",
            "<lambdifygenerated-11>:2: RuntimeWarning: invalid value encountered in scalar divide\n",
            "  return cos(x)**2/x**2\n"
          ]
        },
        {
          "output_type": "display_data",
          "data": {
            "text/plain": [
              "<Figure size 640x480 with 1 Axes>"
            ],
            "image/png": "[encoded data removed]"
          },
          "metadata": {}
        },
        {
          "output_type": "execute_result",
          "data": {
            "text/plain": [
              "<sympy.plotting.backends.matplotlibbackend.matplotlib.MatplotlibBackend at 0x7a47b2379580>"
            ]
          },
          "metadata": {},
          "execution_count": 41
        }
      ]
    },
    {
      "cell_type": "markdown",
      "source": [
        "3.(a) Graph curve of log base a (x) where a is first initial of your name from (1,0) to (2, loga(2)."
      ],
      "metadata": {
        "id": "TtyN0VHh4LMG"
      }
    },
    {
      "cell_type": "code",
      "source": [
        "a=log(x,18)\n",
        "plot(a,(x,1,2))"
      ],
      "metadata": {
        "colab": {
          "base_uri": "https://localhost:8080/",
          "height": 501
        },
        "id": "eJxhGaxe4g4Q",
        "outputId": "f016b16f-4d74-4dd6-982f-a16f28bf7cdb"
      },
      "execution_count": 43,
      "outputs": [
        {
          "output_type": "display_data",
          "data": {
            "text/plain": [
              "<Figure size 640x480 with 1 Axes>"
            ],
            "image/png": "[encoded data removed]"
          },
          "metadata": {}
        },
        {
          "output_type": "execute_result",
          "data": {
            "text/plain": [
              "<sympy.plotting.backends.matplotlibbackend.matplotlib.MatplotlibBackend at 0x7a47ab21e690>"
            ]
          },
          "metadata": {},
          "execution_count": 43
        }
      ]
    },
    {
      "cell_type": "markdown",
      "source": [
        "3. (b) Calcuate arc length between the two points."
      ],
      "metadata": {
        "id": "i9gXidko7gWT"
      }
    },
    {
      "cell_type": "code",
      "source": [
        "b = diff(a,x)\n",
        "c= sqrt(1+b**2)\n",
        "d=integrate(c,(x,1,2))\n",
        "print(d)"
      ],
      "metadata": {
        "colab": {
          "base_uri": "https://localhost:8080/"
        },
        "id": "q04lCWlv8tdZ",
        "outputId": "71f13719-af79-4e61-ee67-2aeb38c6fb41"
      },
      "execution_count": 47,
      "outputs": [
        {
          "output_type": "stream",
          "name": "stdout",
          "text": [
            "-sqrt(1 + log(18)**2)/log(18) - asinh(1/(2*log(18)))/log(18) + asinh(1/log(18))/log(18) + sqrt(1 + 4*log(18)**2)/log(18)\n"
          ]
        }
      ]
    }
  ]
}