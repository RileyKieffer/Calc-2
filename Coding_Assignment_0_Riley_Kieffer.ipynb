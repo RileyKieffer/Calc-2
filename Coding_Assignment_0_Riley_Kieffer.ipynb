{
  "nbformat": 4,
  "nbformat_minor": 0,
  "metadata": {
    "colab": {
      "provenance": [],
      "authorship_tag": "ABX9TyPCdQGYVHp2lgINabcmvFf6",
      "include_colab_link": true
    },
    "kernelspec": {
      "name": "python3",
      "display_name": "Python 3"
    },
    "language_info": {
      "name": "python"
    }
  },
  "cells": [
    {
      "cell_type": "markdown",
      "metadata": {
        "id": "view-in-github",
        "colab_type": "text"
      },
      "source": [
        "<a href=\"https://colab.research.google.com/github/RileyKieffer/Calc-2/blob/main/Coding_Assignment_0_Riley_Kieffer.ipynb\" target=\"_parent\"><img src=\"https://colab.research.google.com/assets/colab-badge.svg\" alt=\"Open In Colab\"/></a>"
      ]
    },
    {
      "cell_type": "markdown",
      "source": [
        "Favorite Function y=2x^2 as its a simple funtion"
      ],
      "metadata": {
        "id": "u336WvETjUzx"
      }
    },
    {
      "cell_type": "code",
      "execution_count": 3,
      "metadata": {
        "id": "IRgbYWUYDj5m"
      },
      "outputs": [],
      "source": [
        "from sympy import *\n",
        "x = symbols('x')"
      ]
    },
    {
      "cell_type": "code",
      "source": [
        "y=2*(x**2)"
      ],
      "metadata": {
        "id": "P2xo-LoacpYo"
      },
      "execution_count": 29,
      "outputs": []
    },
    {
      "cell_type": "code",
      "source": [
        "diff(y)"
      ],
      "metadata": {
        "colab": {
          "base_uri": "https://localhost:8080/",
          "height": 39
        },
        "id": "JZy6TQcEjzAr",
        "outputId": "b32b9b81-4323-46f7-9de0-341325dcec7e"
      },
      "execution_count": 30,
      "outputs": [
        {
          "output_type": "execute_result",
          "data": {
            "text/plain": [
              "4*x"
            ],
            "text/latex": "$\\displaystyle 4 x$"
          },
          "metadata": {},
          "execution_count": 30
        }
      ]
    },
    {
      "cell_type": "code",
      "source": [
        "integrate(y)"
      ],
      "metadata": {
        "colab": {
          "base_uri": "https://localhost:8080/",
          "height": 54
        },
        "id": "ODbgTtibkRJJ",
        "outputId": "6ed77c67-13b1-474b-d579-ebcee68f7daf"
      },
      "execution_count": 31,
      "outputs": [
        {
          "output_type": "execute_result",
          "data": {
            "text/plain": [
              "2*x**3/3"
            ],
            "text/latex": "$\\displaystyle \\frac{2 x^{3}}{3}$"
          },
          "metadata": {},
          "execution_count": 31
        }
      ]
    }
  ]
}